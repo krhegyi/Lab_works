{
 "cells": [
  {
   "cell_type": "code",
   "execution_count": null,
   "metadata": {},
   "outputs": [],
   "source": [
    "# 4 03 activities https://docs.python.org/3/library/re.html\n",
    "# https://regex101.com/library\n",
    "# https://www.w3schools.com/python/python_regex.asp\n",
    "# practice regex"
   ]
  },
  {
   "cell_type": "code",
   "execution_count": 1,
   "metadata": {},
   "outputs": [],
   "source": [
    "import re"
   ]
  },
  {
   "cell_type": "code",
   "execution_count": 29,
   "metadata": {},
   "outputs": [
    {
     "name": "stdout",
     "output_type": "stream",
     "text": [
      "['800-237-6639', '888-247-2262', '888-247-2262', '800-567-6567', '800-361-2965', '800-661-0407', '888-545-6794']\n"
     ]
    }
   ],
   "source": [
    "text = \"\"\"\n",
    "Aeromexico 800 - 237 - 6639\n",
    "Air Canada 888- 247-2262\n",
    "Air Canada Rouge 888-247-2262\n",
    "Air Creebec 800-567-6567\n",
    "Air Inuit 800-361-2965\n",
    "Air North 800-661-0407\n",
    "Air Tindi 888-545-6794\"\"\"\n",
    "#pattern = \"\\d+-\"+\"\\d+-\"+\"\\d+\"\n",
    "#print(re.findall(pattern, text))\n",
    "pattern = \"\\d+-\\d+-\\d+\"\n",
    "print(re.findall(pattern, text.replace(' ', '')))"
   ]
  },
  {
   "cell_type": "code",
   "execution_count": 33,
   "metadata": {},
   "outputs": [
    {
     "name": "stdout",
     "output_type": "stream",
     "text": [
      "['KerraPower', 'Bill Gates', 'China', 'Trump']\n"
     ]
    }
   ],
   "source": [
    "text = '''TKerraPower, A nuclear-energy company founded by Bill Gates,\n",
    "        is unlikely to follow through on building a demonstration reactor in China,\n",
    "        due largely to the Trump administration�s crackdown on the country'''\n",
    "#pattern = \"[\\s][A-Z]+[a-z]+.\"\n",
    "#pattern = '[A-Z][a-z]+'\n",
    "pattern = '[A-Z][a-z]+ ?[A-Z][a-z]+|[A-Z][a-z]+'\n",
    "print(re.findall(pattern, text))\n"
   ]
  },
  {
   "cell_type": "code",
   "execution_count": 34,
   "metadata": {},
   "outputs": [
    {
     "name": "stdout",
     "output_type": "stream",
     "text": [
      "4. 02 activity 3 binning and grouping.ipynb\r\n",
      "W4D1.ipynb\r\n",
      "W4D2.ipynb\r\n",
      "data_imbalance.ipynb\r\n",
      "unit4.csv\r\n",
      "working notebook 1. W4D1_Sian.ipynb\r\n"
     ]
    }
   ],
   "source": [
    "ls"
   ]
  },
  {
   "cell_type": "code",
   "execution_count": null,
   "metadata": {},
   "outputs": [],
   "source": []
  },
  {
   "cell_type": "code",
   "execution_count": 35,
   "metadata": {},
   "outputs": [],
   "source": [
    "#map,filter, reduce, apply 4.03 2 -WS w Flo\n"
   ]
  },
  {
   "cell_type": "code",
   "execution_count": null,
   "metadata": {},
   "outputs": [],
   "source": []
  }
 ],
 "metadata": {
  "kernelspec": {
   "display_name": "Python 3",
   "language": "python",
   "name": "python3"
  },
  "language_info": {
   "codemirror_mode": {
    "name": "ipython",
    "version": 3
   },
   "file_extension": ".py",
   "mimetype": "text/x-python",
   "name": "python",
   "nbconvert_exporter": "python",
   "pygments_lexer": "ipython3",
   "version": "3.8.5"
  }
 },
 "nbformat": 4,
 "nbformat_minor": 4
}
