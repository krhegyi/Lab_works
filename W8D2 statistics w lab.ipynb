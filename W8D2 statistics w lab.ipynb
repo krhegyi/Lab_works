{
 "cells": [
  {
   "cell_type": "code",
   "execution_count": 1,
   "metadata": {},
   "outputs": [],
   "source": [
    "import pandas as pd"
   ]
  },
  {
   "cell_type": "code",
   "execution_count": 6,
   "metadata": {},
   "outputs": [
    {
     "name": "stdout",
     "output_type": "stream",
     "text": [
      "Collecting xlrd\n",
      "  Downloading xlrd-1.2.0-py2.py3-none-any.whl (103 kB)\n",
      "\u001b[K     |████████████████████████████████| 103 kB 2.5 MB/s eta 0:00:01\n",
      "\u001b[?25hInstalling collected packages: xlrd\n",
      "Successfully installed xlrd-1.2.0\n",
      "Note: you may need to restart the kernel to use updated packages.\n"
     ]
    }
   ],
   "source": [
    "pip install xlrd"
   ]
  },
  {
   "cell_type": "code",
   "execution_count": 7,
   "metadata": {},
   "outputs": [
    {
     "data": {
      "text/html": [
       "<div>\n",
       "<style scoped>\n",
       "    .dataframe tbody tr th:only-of-type {\n",
       "        vertical-align: middle;\n",
       "    }\n",
       "\n",
       "    .dataframe tbody tr th {\n",
       "        vertical-align: top;\n",
       "    }\n",
       "\n",
       "    .dataframe thead th {\n",
       "        text-align: right;\n",
       "    }\n",
       "</style>\n",
       "<table border=\"1\" class=\"dataframe\">\n",
       "  <thead>\n",
       "    <tr style=\"text-align: right;\">\n",
       "      <th></th>\n",
       "      <th>city from</th>\n",
       "      <th>city to</th>\n",
       "      <th>pop city  from 1000s</th>\n",
       "      <th>pop city to 1000s</th>\n",
       "      <th>distance betw cities m</th>\n",
       "      <th>avg fare dollars 2000 q4</th>\n",
       "      <th>avg weekly passengers 2000 q4</th>\n",
       "      <th>avg fare dollars 2001 q4</th>\n",
       "      <th>avg weekly passengers 2001 q4</th>\n",
       "    </tr>\n",
       "  </thead>\n",
       "  <tbody>\n",
       "    <tr>\n",
       "      <th>0</th>\n",
       "      <td>ABE</td>\n",
       "      <td>CLE</td>\n",
       "      <td>613.84</td>\n",
       "      <td>2908.44</td>\n",
       "      <td>339.0</td>\n",
       "      <td>322.20</td>\n",
       "      <td>23.36</td>\n",
       "      <td>326.70</td>\n",
       "      <td>18.58</td>\n",
       "    </tr>\n",
       "    <tr>\n",
       "      <th>1</th>\n",
       "      <td>ABE</td>\n",
       "      <td>CLT</td>\n",
       "      <td>613.84</td>\n",
       "      <td>1350.24</td>\n",
       "      <td>480.0</td>\n",
       "      <td>250.27</td>\n",
       "      <td>52.60</td>\n",
       "      <td>241.53</td>\n",
       "      <td>35.76</td>\n",
       "    </tr>\n",
       "    <tr>\n",
       "      <th>2</th>\n",
       "      <td>ABE</td>\n",
       "      <td>CMH</td>\n",
       "      <td>613.84</td>\n",
       "      <td>1460.24</td>\n",
       "      <td>395.0</td>\n",
       "      <td>259.29</td>\n",
       "      <td>19.23</td>\n",
       "      <td>240.71</td>\n",
       "      <td>14.23</td>\n",
       "    </tr>\n",
       "    <tr>\n",
       "      <th>3</th>\n",
       "      <td>ABE</td>\n",
       "      <td>DEN</td>\n",
       "      <td>613.84</td>\n",
       "      <td>2318.36</td>\n",
       "      <td>1539.0</td>\n",
       "      <td>202.77</td>\n",
       "      <td>80.97</td>\n",
       "      <td>209.82</td>\n",
       "      <td>55.10</td>\n",
       "    </tr>\n",
       "    <tr>\n",
       "      <th>4</th>\n",
       "      <td>ABE</td>\n",
       "      <td>DFW</td>\n",
       "      <td>613.84</td>\n",
       "      <td>4683.01</td>\n",
       "      <td>1308.0</td>\n",
       "      <td>344.47</td>\n",
       "      <td>45.54</td>\n",
       "      <td>293.50</td>\n",
       "      <td>40.21</td>\n",
       "    </tr>\n",
       "  </tbody>\n",
       "</table>\n",
       "</div>"
      ],
      "text/plain": [
       "  city from city to  pop city  from 1000s  pop city to 1000s  \\\n",
       "0       ABE     CLE                613.84            2908.44   \n",
       "1       ABE     CLT                613.84            1350.24   \n",
       "2       ABE     CMH                613.84            1460.24   \n",
       "3       ABE     DEN                613.84            2318.36   \n",
       "4       ABE     DFW                613.84            4683.01   \n",
       "\n",
       "   distance betw cities m  avg fare dollars 2000 q4  \\\n",
       "0                   339.0                    322.20   \n",
       "1                   480.0                    250.27   \n",
       "2                   395.0                    259.29   \n",
       "3                  1539.0                    202.77   \n",
       "4                  1308.0                    344.47   \n",
       "\n",
       "   avg weekly passengers 2000 q4  avg fare dollars 2001 q4  \\\n",
       "0                          23.36                    326.70   \n",
       "1                          52.60                    241.53   \n",
       "2                          19.23                    240.71   \n",
       "3                          80.97                    209.82   \n",
       "4                          45.54                    293.50   \n",
       "\n",
       "   avg weekly passengers 2001 q4  \n",
       "0                          18.58  \n",
       "1                          35.76  \n",
       "2                          14.23  \n",
       "3                          55.10  \n",
       "4                          40.21  "
      ]
     },
     "execution_count": 7,
     "metadata": {},
     "output_type": "execute_result"
    }
   ],
   "source": [
    "df = pd.read_excel('W8D2 flight data.xlsx')\n",
    "df.head()"
   ]
  },
  {
   "cell_type": "code",
   "execution_count": 9,
   "metadata": {},
   "outputs": [
    {
     "name": "stdout",
     "output_type": "stream",
     "text": [
      "       city from city to  pop city  from 1000s  pop city to 1000s  \\\n",
      "count       4176    4175           4175.000000        4175.000000   \n",
      "unique       197     184                   NaN                NaN   \n",
      "top          ATL     IAD                   NaN                NaN   \n",
      "freq         142     148                   NaN                NaN   \n",
      "mean         NaN     NaN           2374.735272        2553.425013   \n",
      "std          NaN     NaN           3307.832747        3737.031552   \n",
      "min          NaN     NaN             14.870000          18.250000   \n",
      "25%          NaN     NaN            503.950000         611.810000   \n",
      "50%          NaN     NaN           1164.720000        1460.240000   \n",
      "75%          NaN     NaN           2792.140000        2722.650000   \n",
      "max          NaN     NaN          19876.490000       19876.490000   \n",
      "\n",
      "        distance betw cities m  avg fare dollars 2000 q4  \\\n",
      "count              4175.000000               4175.000000   \n",
      "unique                     NaN                       NaN   \n",
      "top                        NaN                       NaN   \n",
      "freq                       NaN                       NaN   \n",
      "mean               1046.826108                209.956857   \n",
      "std                 614.768012                 70.642935   \n",
      "min                  72.000000                 61.110000   \n",
      "25%                 565.000000                158.570000   \n",
      "50%                 911.000000                206.500000   \n",
      "75%                1420.500000                254.515000   \n",
      "max                2724.000000                529.700000   \n",
      "\n",
      "        avg weekly passengers 2000 q4  avg fare dollars 2001 q4  \\\n",
      "count                     4175.000000               4175.000000   \n",
      "unique                            NaN                       NaN   \n",
      "top                               NaN                       NaN   \n",
      "freq                              NaN                       NaN   \n",
      "mean                       226.855638                188.596857   \n",
      "std                        530.669697                 59.691852   \n",
      "min                         10.000000                 57.510000   \n",
      "25%                         30.970000                146.300000   \n",
      "50%                         61.840000                183.020000   \n",
      "75%                        182.060000                228.345000   \n",
      "max                       7676.410000                528.350000   \n",
      "\n",
      "        avg weekly passengers 2001 q4  \n",
      "count                     4175.000000  \n",
      "unique                            NaN  \n",
      "top                               NaN  \n",
      "freq                              NaN  \n",
      "mean                       206.690187  \n",
      "std                        471.182221  \n",
      "min                         10.000000  \n",
      "25%                         28.360000  \n",
      "50%                         57.710000  \n",
      "75%                        169.995000  \n",
      "max                       8084.020000  \n"
     ]
    }
   ],
   "source": [
    "stats=df.describe(include='all')\n",
    "print(stats)"
   ]
  },
  {
   "cell_type": "code",
   "execution_count": 10,
   "metadata": {},
   "outputs": [
    {
     "data": {
      "text/html": [
       "<div>\n",
       "<style scoped>\n",
       "    .dataframe tbody tr th:only-of-type {\n",
       "        vertical-align: middle;\n",
       "    }\n",
       "\n",
       "    .dataframe tbody tr th {\n",
       "        vertical-align: top;\n",
       "    }\n",
       "\n",
       "    .dataframe thead th {\n",
       "        text-align: right;\n",
       "    }\n",
       "</style>\n",
       "<table border=\"1\" class=\"dataframe\">\n",
       "  <thead>\n",
       "    <tr style=\"text-align: right;\">\n",
       "      <th></th>\n",
       "      <th>pop city  from 1000s</th>\n",
       "      <th>pop city to 1000s</th>\n",
       "      <th>distance betw cities m</th>\n",
       "      <th>avg fare dollars 2000 q4</th>\n",
       "      <th>avg weekly passengers 2000 q4</th>\n",
       "      <th>avg fare dollars 2001 q4</th>\n",
       "      <th>avg weekly passengers 2001 q4</th>\n",
       "    </tr>\n",
       "  </thead>\n",
       "  <tbody>\n",
       "    <tr>\n",
       "      <th>count</th>\n",
       "      <td>4175.000000</td>\n",
       "      <td>4175.000000</td>\n",
       "      <td>4175.000000</td>\n",
       "      <td>4175.000000</td>\n",
       "      <td>4175.000000</td>\n",
       "      <td>4175.000000</td>\n",
       "      <td>4175.000000</td>\n",
       "    </tr>\n",
       "    <tr>\n",
       "      <th>mean</th>\n",
       "      <td>2374.735272</td>\n",
       "      <td>2553.425013</td>\n",
       "      <td>1046.826108</td>\n",
       "      <td>209.956857</td>\n",
       "      <td>226.855638</td>\n",
       "      <td>188.596857</td>\n",
       "      <td>206.690187</td>\n",
       "    </tr>\n",
       "    <tr>\n",
       "      <th>std</th>\n",
       "      <td>3307.832747</td>\n",
       "      <td>3737.031552</td>\n",
       "      <td>614.768012</td>\n",
       "      <td>70.642935</td>\n",
       "      <td>530.669697</td>\n",
       "      <td>59.691852</td>\n",
       "      <td>471.182221</td>\n",
       "    </tr>\n",
       "    <tr>\n",
       "      <th>min</th>\n",
       "      <td>14.870000</td>\n",
       "      <td>18.250000</td>\n",
       "      <td>72.000000</td>\n",
       "      <td>61.110000</td>\n",
       "      <td>10.000000</td>\n",
       "      <td>57.510000</td>\n",
       "      <td>10.000000</td>\n",
       "    </tr>\n",
       "    <tr>\n",
       "      <th>25%</th>\n",
       "      <td>503.950000</td>\n",
       "      <td>611.810000</td>\n",
       "      <td>565.000000</td>\n",
       "      <td>158.570000</td>\n",
       "      <td>30.970000</td>\n",
       "      <td>146.300000</td>\n",
       "      <td>28.360000</td>\n",
       "    </tr>\n",
       "    <tr>\n",
       "      <th>50%</th>\n",
       "      <td>1164.720000</td>\n",
       "      <td>1460.240000</td>\n",
       "      <td>911.000000</td>\n",
       "      <td>206.500000</td>\n",
       "      <td>61.840000</td>\n",
       "      <td>183.020000</td>\n",
       "      <td>57.710000</td>\n",
       "    </tr>\n",
       "    <tr>\n",
       "      <th>75%</th>\n",
       "      <td>2792.140000</td>\n",
       "      <td>2722.650000</td>\n",
       "      <td>1420.500000</td>\n",
       "      <td>254.515000</td>\n",
       "      <td>182.060000</td>\n",
       "      <td>228.345000</td>\n",
       "      <td>169.995000</td>\n",
       "    </tr>\n",
       "    <tr>\n",
       "      <th>max</th>\n",
       "      <td>19876.490000</td>\n",
       "      <td>19876.490000</td>\n",
       "      <td>2724.000000</td>\n",
       "      <td>529.700000</td>\n",
       "      <td>7676.410000</td>\n",
       "      <td>528.350000</td>\n",
       "      <td>8084.020000</td>\n",
       "    </tr>\n",
       "  </tbody>\n",
       "</table>\n",
       "</div>"
      ],
      "text/plain": [
       "       pop city  from 1000s  pop city to 1000s  distance betw cities m  \\\n",
       "count           4175.000000        4175.000000             4175.000000   \n",
       "mean            2374.735272        2553.425013             1046.826108   \n",
       "std             3307.832747        3737.031552              614.768012   \n",
       "min               14.870000          18.250000               72.000000   \n",
       "25%              503.950000         611.810000              565.000000   \n",
       "50%             1164.720000        1460.240000              911.000000   \n",
       "75%             2792.140000        2722.650000             1420.500000   \n",
       "max            19876.490000       19876.490000             2724.000000   \n",
       "\n",
       "       avg fare dollars 2000 q4  avg weekly passengers 2000 q4  \\\n",
       "count               4175.000000                    4175.000000   \n",
       "mean                 209.956857                     226.855638   \n",
       "std                   70.642935                     530.669697   \n",
       "min                   61.110000                      10.000000   \n",
       "25%                  158.570000                      30.970000   \n",
       "50%                  206.500000                      61.840000   \n",
       "75%                  254.515000                     182.060000   \n",
       "max                  529.700000                    7676.410000   \n",
       "\n",
       "       avg fare dollars 2001 q4  avg weekly passengers 2001 q4  \n",
       "count               4175.000000                    4175.000000  \n",
       "mean                 188.596857                     206.690187  \n",
       "std                   59.691852                     471.182221  \n",
       "min                   57.510000                      10.000000  \n",
       "25%                  146.300000                      28.360000  \n",
       "50%                  183.020000                      57.710000  \n",
       "75%                  228.345000                     169.995000  \n",
       "max                  528.350000                    8084.020000  "
      ]
     },
     "execution_count": 10,
     "metadata": {},
     "output_type": "execute_result"
    }
   ],
   "source": [
    "df.describe()"
   ]
  },
  {
   "cell_type": "code",
   "execution_count": null,
   "metadata": {},
   "outputs": [],
   "source": [
    "#H0: there is no significant changes in fare prices between 2000 and 2001"
   ]
  },
  {
   "cell_type": "code",
   "execution_count": null,
   "metadata": {},
   "outputs": [],
   "source": []
  },
  {
   "cell_type": "code",
   "execution_count": null,
   "metadata": {},
   "outputs": [],
   "source": [
    "#Lab Inferential statistics\n",
    "#H0: there is no significant difference between the sample and the population mean"
   ]
  },
  {
   "cell_type": "code",
   "execution_count": 11,
   "metadata": {},
   "outputs": [
    {
     "name": "stdout",
     "output_type": "stream",
     "text": [
      "Statistic is:  4.761904761904759\n"
     ]
    }
   ],
   "source": [
    "import math\n",
    "\n",
    "sample_mean = 130.1\n",
    "pop_mean = 120\n",
    "sample_std = 21.21\n",
    "n = 100\n",
    "statistic = (sample_mean - pop_mean)/(sample_std/math.sqrt(n))\n",
    "print(\"Statistic is: \", statistic)"
   ]
  },
  {
   "cell_type": "code",
   "execution_count": null,
   "metadata": {},
   "outputs": [],
   "source": [
    "#as the statistic is higher then 1,96 (two tailed T test, alpha 0,05), we DO REJECT the H0."
   ]
  },
  {
   "cell_type": "code",
   "execution_count": null,
   "metadata": {},
   "outputs": [],
   "source": []
  },
  {
   "cell_type": "code",
   "execution_count": null,
   "metadata": {},
   "outputs": [],
   "source": [
    "#Lab Inferential statistics - T-test & P-value"
   ]
  },
  {
   "cell_type": "code",
   "execution_count": 12,
   "metadata": {},
   "outputs": [
    {
     "name": "stdout",
     "output_type": "stream",
     "text": [
      "T Statistic is:  -3.4072466988904275\n"
     ]
    }
   ],
   "source": [
    "# 2 sample t test \n",
    "\n",
    "sample_mean1 = 42.14\n",
    "sample_std1 = 0.68\n",
    "n1 = 10\n",
    "sample_mean2 = 43.23\n",
    "sample_std2 = 0.749\n",
    "n2 = 10\n",
    "\n",
    "pooled_sample_std = math.sqrt(((n1-1)*sample_std1**2 + (n2-1)*sample_std2**2)/(n1+n2-2))\n",
    "statistic = (sample_mean1-sample_mean2)/(pooled_sample_std*math.sqrt((1/n1)+(1/n2)))\n",
    "print(\"T Statistic is: \", statistic)"
   ]
  },
  {
   "cell_type": "code",
   "execution_count": 13,
   "metadata": {},
   "outputs": [
    {
     "name": "stdout",
     "output_type": "stream",
     "text": [
      "P value is:  0.9984296541161014\n",
      "Critical Value of z is:  -2.10092204024096\n"
     ]
    }
   ],
   "source": [
    "from scipy.stats import t\n",
    "\n",
    "print(\"P value is: \", 1- t.cdf(statistic,n1+n2-2))\n",
    "print(\"Critical Value of z is: \", t.ppf(0.025, n1+n2-2)) #alpha is 0.05"
   ]
  },
  {
   "cell_type": "code",
   "execution_count": null,
   "metadata": {},
   "outputs": [],
   "source": []
  },
  {
   "cell_type": "code",
   "execution_count": null,
   "metadata": {},
   "outputs": [],
   "source": []
  },
  {
   "cell_type": "code",
   "execution_count": null,
   "metadata": {},
   "outputs": [],
   "source": []
  }
 ],
 "metadata": {
  "kernelspec": {
   "display_name": "Python 3",
   "language": "python",
   "name": "python3"
  },
  "language_info": {
   "codemirror_mode": {
    "name": "ipython",
    "version": 3
   },
   "file_extension": ".py",
   "mimetype": "text/x-python",
   "name": "python",
   "nbconvert_exporter": "python",
   "pygments_lexer": "ipython3",
   "version": "3.8.5"
  }
 },
 "nbformat": 4,
 "nbformat_minor": 4
}
